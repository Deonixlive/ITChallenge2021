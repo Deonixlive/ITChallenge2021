{
 "cells": [
  {
   "cell_type": "code",
   "execution_count": 27,
   "metadata": {},
   "outputs": [],
   "source": [
    "import networkx as nx\n",
    "import math\n",
    "import matplotlib.pyplot as plt\n"
   ]
  },
  {
   "cell_type": "code",
   "execution_count": null,
   "metadata": {
    "scrolled": true
   },
   "outputs": [],
   "source": []
  },
  {
   "cell_type": "code",
   "execution_count": 28,
   "metadata": {},
   "outputs": [
    {
     "name": "stdout",
     "output_type": "stream",
     "text": [
      "<class 'networkx.classes.reportviews.NodeView'>\n",
      "<class 'networkx.classes.reportviews.EdgeView'>\n"
     ]
    }
   ],
   "source": [
    "G = nx.Graph()\n",
    "print(type(G.nodes()))\n",
    "print(type(G.edges()))"
   ]
  },
  {
   "cell_type": "code",
   "execution_count": 29,
   "metadata": {},
   "outputs": [],
   "source": [
    "#G.add_node(1, time='5pm')\n",
    "#G.add_edge(1, 2, weight=4.7 )\n",
    "#"
   ]
  },
  {
   "cell_type": "code",
   "execution_count": 30,
   "metadata": {},
   "outputs": [],
   "source": [
    "#List of nodes and edges with properties:\n",
    "nodes = {\"S\": (3,5), \"P1\": (10,8), \"P2\": (11,3), \n",
    "        \"P3\": (14,7), \"P4\": (15,1), \"P5\": (18,5),\n",
    "        \"P\": (22,2), \"E1\": (26,4), \"E2\": (35,8), \n",
    "        \"E3\": (26,9), \"E4\": (28, 13), \"E5\": (19,9),\n",
    "        \"E\": (19,13), \"D1\": (21, 15), \"D2\": (24,17),\n",
    "        \"D3\": (30,15), \"D4\": (34, 17), \"D5\": (46,15),\n",
    "        \"D\": (38, 14), \"C1\": (42, 13), \"C2\": (41, 2),\n",
    "        \"C3\": (46, 9), \"C4\": (48, 3), \"C5\": (51, 14),\n",
    "        \"C\": (54, 8)}\n",
    "edges = [[\"S\",\"P1\"], [\"S\",\"P2\"], [\"P1\",\"P3\"], [\"P3\",\"P5\"], \n",
    "         [\"P5\", \"P\"], [\"P2\",\"P5\"], [\"P2\",\"P4\"],[\"P4\",\"P\"],\n",
    "        [\"P\",\"E1\"], [\"P\",\"E3\"], [\"E3\",\"E5\"], [\"E5\",\"E\"], [\"E3\",\"E4\"],\n",
    "         [\"E1\",\"E2\"],[ \"E2\",\"E4\"], [\"E4\", \"E\"], [\"E\",\"D1\"],\n",
    "         [\"D1\",\"D2\"], [\"D2\",\"D3\"], [\"D2\",\"D4\"], [\"D4\",\"D5\"],\n",
    "         [\"D5\", \"D\"], [\"D3\",\"D\"], [\"D\",\"C1\"],\n",
    "         [\"C1\",\"C5\"], [\"C1\", \"C2\"], [\"C5\", \"C\"], [\"C2\", \"C4\"],\n",
    "         [\"C2\",\"C3\"], [\"C4\", \"C\"], [\"C3\", \"C\"]\n",
    "        ]"
   ]
  },
  {
   "cell_type": "code",
   "execution_count": 31,
   "metadata": {},
   "outputs": [],
   "source": [
    "edges_w = []"
   ]
  },
  {
   "cell_type": "code",
   "execution_count": 32,
   "metadata": {},
   "outputs": [],
   "source": [
    "#calculate distance between two points\n",
    "def pyth(x,y):\n",
    "    return math.sqrt(x**2 + y**2)\n",
    "\n",
    "#tuple of edges with weights\n",
    "def edge_w(edge,node_list=nodes):\n",
    "    return (edge[0], edge[1], {\"weight\": round(pyth(abs(\n",
    "        node_list[edge[0]][0]-node_list[edge[1]][0]),\n",
    "         abs(node_list[edge[0]][1]-node_list[edge[1]][1])),1000)})"
   ]
  },
  {
   "cell_type": "code",
   "execution_count": 33,
   "metadata": {},
   "outputs": [],
   "source": [
    "#Adding the nodes to the graph\n",
    "for index, value in nodes.items():\n",
    "    G.add_node(index, cords=value)"
   ]
  },
  {
   "cell_type": "code",
   "execution_count": 34,
   "metadata": {},
   "outputs": [
    {
     "name": "stdout",
     "output_type": "stream",
     "text": [
      "[('S', 'P1', {'weight': 7.615773105863909}), ('S', 'P2', {'weight': 8.246211251235321}), ('P1', 'P3', {'weight': 4.123105625617661}), ('P3', 'P5', {'weight': 4.47213595499958}), ('P5', 'P', {'weight': 5.0}), ('P2', 'P5', {'weight': 7.280109889280518}), ('P2', 'P4', {'weight': 4.47213595499958}), ('P4', 'P', {'weight': 7.0710678118654755}), ('P', 'E1', {'weight': 4.47213595499958}), ('P', 'E3', {'weight': 8.06225774829855}), ('E3', 'E5', {'weight': 7.0}), ('E5', 'E', {'weight': 4.0}), ('E3', 'E4', {'weight': 4.47213595499958}), ('E1', 'E2', {'weight': 9.848857801796104}), ('E2', 'E4', {'weight': 8.602325267042627}), ('E4', 'E', {'weight': 9.0}), ('E', 'D1', {'weight': 2.8284271247461903}), ('D1', 'D2', {'weight': 3.605551275463989}), ('D2', 'D3', {'weight': 6.324555320336759}), ('D2', 'D4', {'weight': 10.0}), ('D4', 'D5', {'weight': 12.165525060596439}), ('D5', 'D', {'weight': 8.06225774829855}), ('D3', 'D', {'weight': 8.06225774829855}), ('D', 'C1', {'weight': 4.123105625617661}), ('C1', 'C5', {'weight': 9.055385138137417}), ('C1', 'C2', {'weight': 11.045361017187261}), ('C5', 'C', {'weight': 6.708203932499369}), ('C2', 'C4', {'weight': 7.0710678118654755}), ('C2', 'C3', {'weight': 8.602325267042627}), ('C4', 'C', {'weight': 7.810249675906654}), ('C3', 'C', {'weight': 8.06225774829855})]\n"
     ]
    }
   ],
   "source": [
    "#make list of edges with weights\n",
    "edges_weights = [edge_w(edge, nodes) for edge in edges]\n",
    "print(edges_weights)    "
   ]
  },
  {
   "cell_type": "code",
   "execution_count": 35,
   "metadata": {},
   "outputs": [],
   "source": [
    "#Adding the edges to the graph\n",
    "for edge in edges_weights:\n",
    "    G.add_edge(edge[0],edge[1], weight=edge[2][\"weight\"])"
   ]
  },
  {
   "cell_type": "code",
   "execution_count": null,
   "metadata": {},
   "outputs": [],
   "source": []
  },
  {
   "cell_type": "code",
   "execution_count": 36,
   "metadata": {},
   "outputs": [],
   "source": [
    "#Target and sourve location\n",
    "source = \"S\"\n",
    "target = \"C\""
   ]
  },
  {
   "cell_type": "code",
   "execution_count": 67,
   "metadata": {},
   "outputs": [],
   "source": [
    "#Calculate the shortest path\n",
    "path = nx.shortest_path(G, source, target, method='dijkstra',weight=\"weight\")\n",
    "length2 = nx.shortest_path_length(G, source, target, method='dijkstra')\n"
   ]
  },
  {
   "cell_type": "code",
   "execution_count": 68,
   "metadata": {},
   "outputs": [],
   "source": [
    "#Calculate the shortest path\n",
    "length = 0\n",
    "for point in path:\n",
    "    if point == \"S\":\n",
    "        prev_point = point\n",
    "        pass\n",
    "    else:\n",
    "      \n",
    "        length += G.edges[prev_point, point][\"weight\"]  \n",
    "        prev_point = point"
   ]
  },
  {
   "cell_type": "code",
   "execution_count": 69,
   "metadata": {},
   "outputs": [
    {
     "data": {
      "image/png": "[encoded data removed]",
      "text/plain": [
       "<Figure size 432x288 with 1 Axes>"
      ]
     },
     "metadata": {},
     "output_type": "display_data"
    }
   ],
   "source": [
    "#drawing the path\n",
    "nx.draw(G, node_color='r', edge_color='b',with_labels=True)\n"
   ]
  },
  {
   "cell_type": "code",
   "execution_count": null,
   "metadata": {},
   "outputs": [],
   "source": []
  },
  {
   "cell_type": "code",
   "execution_count": 70,
   "metadata": {},
   "outputs": [
    {
     "data": {
      "text/plain": [
       "13"
      ]
     },
     "execution_count": 70,
     "metadata": {},
     "output_type": "execute_result"
    }
   ],
   "source": [
    "length2"
   ]
  },
  {
   "cell_type": "code",
   "execution_count": 71,
   "metadata": {},
   "outputs": [
    {
     "data": {
      "text/plain": [
       "11.045361017187261"
      ]
     },
     "execution_count": 71,
     "metadata": {},
     "output_type": "execute_result"
    }
   ],
   "source": [
    "G.edges[\"C1\",\"C2\"][\"weight\"]"
   ]
  },
  {
   "cell_type": "code",
   "execution_count": 72,
   "metadata": {},
   "outputs": [
    {
     "data": {
      "text/plain": [
       "79.55915893149887"
      ]
     },
     "execution_count": 72,
     "metadata": {},
     "output_type": "execute_result"
    }
   ],
   "source": [
    "#Solution\n",
    "length"
   ]
  },
  {
   "cell_type": "code",
   "execution_count": null,
   "metadata": {},
   "outputs": [],
   "source": []
  },
  {
   "cell_type": "code",
   "execution_count": null,
   "metadata": {},
   "outputs": [],
   "source": []
  }
 ],
 "metadata": {
  "kernelspec": {
   "display_name": "Python 3",
   "language": "python",
   "name": "python3"
  },
  "language_info": {
   "codemirror_mode": {
    "name": "ipython",
    "version": 3
   },
   "file_extension": ".py",
   "mimetype": "text/x-python",
   "name": "python",
   "nbconvert_exporter": "python",
   "pygments_lexer": "ipython3",
   "version": "3.8.5"
  }
 },
 "nbformat": 4,
 "nbformat_minor": 4
}
